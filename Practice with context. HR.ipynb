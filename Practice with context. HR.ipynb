{
 "cells": [
  {
   "cell_type": "markdown",
   "id": "74322a0d",
   "metadata": {},
   "source": [
    "Необходимо написать код который превратит l = [[1,2,3,4,5,6], [0,0,0,0], ['a', 'b', 'c']] в простой лист. Без использования доп массива.\n",
    "<br>\n",
    "Результат = [1,2,3,4,5,6,0,0,0,0,'a', 'b', 'c']"
   ]
  },
  {
   "cell_type": "code",
   "execution_count": 1,
   "id": "29b33838",
   "metadata": {},
   "outputs": [
    {
     "data": {
      "text/plain": [
       "[1, 2, 3, 4, 5, 6, 0, 0, 0, 0, 'a', 'b', 'c']"
      ]
     },
     "execution_count": 1,
     "metadata": {},
     "output_type": "execute_result"
    }
   ],
   "source": [
    "l = [[1,2,3,4,5,6], [0,0,0,0], ['a', 'b', 'c']]\n",
    "l = [item for sublist in l for item in sublist]\n",
    "l"
   ]
  },
  {
   "cell_type": "markdown",
   "id": "9dec9fc9",
   "metadata": {},
   "source": [
    "f = func('a', 'b', 'c')\n",
    "<br>\n",
    "print(f('x'))\n",
    "<br>\n",
    "Результат должен быть: ['xa', 'xb', 'xc']"
   ]
  },
  {
   "cell_type": "code",
   "execution_count": 2,
   "id": "fd8d573e",
   "metadata": {},
   "outputs": [
    {
     "name": "stdout",
     "output_type": "stream",
     "text": [
      "['xa', 'xb', 'xc']\n"
     ]
    }
   ],
   "source": [
    "def func(arg_1, arg_2, arg_3):\n",
    "    def f(x):\n",
    "        result = x + arg_1,  x + arg_2, x +arg_3\n",
    "        return(list(result))\n",
    "    return f\n",
    "\n",
    "f = func('a', 'b', 'c')\n",
    "print(f('x'))"
   ]
  },
  {
   "cell_type": "markdown",
   "id": "430ddf83",
   "metadata": {},
   "source": [
    "Написать реализацию метода caller\n",
    "<br>\n",
    "Результат '100h - 200z'"
   ]
  },
  {
   "cell_type": "code",
   "execution_count": 3,
   "id": "74bf2d37",
   "metadata": {},
   "outputs": [
    {
     "name": "stdout",
     "output_type": "stream",
     "text": [
      "100h - 200z\n"
     ]
    }
   ],
   "source": [
    "def a(x, y):\n",
    "    print(f\"{x} - {y}\")\n",
    "\n",
    "def caller(func, c, j):\n",
    "    def f(str_1, str_2):\n",
    "            x = c + str_1\n",
    "            y = j + str_2\n",
    "            return func(x, y)\n",
    "    return f\n",
    "f = caller(a, '100', '200')\n",
    "f('h', 'z')"
   ]
  },
  {
   "cell_type": "markdown",
   "id": "3141edd6",
   "metadata": {},
   "source": [
    "https://www.hackerrank.com/challenges/py-if-else/problem\n",
    "\n",
    "Given an integer, , perform the following conditional actions:\n",
    "<br>\n",
    "If n  is odd, print Weird\n",
    "<br>\n",
    "If n is even and in the inclusive range of 2 to 5, print Not Weird\n",
    "<br>\n",
    "If n is even and in the inclusive range of 6 to 20, print Weird\n",
    "<br>\n",
    "If n is even and greater than 20 , print Not Weir"
   ]
  },
  {
   "cell_type": "code",
   "execution_count": 4,
   "id": "1fdc274d",
   "metadata": {},
   "outputs": [
    {
     "name": "stdout",
     "output_type": "stream",
     "text": [
      "54\n",
      "Not Weird\n"
     ]
    }
   ],
   "source": [
    "n = int(input())\n",
    "if n % 2 != 0:\n",
    "    arg = 'Weird'\n",
    "else:\n",
    "    if n >= 2 and n <=5:\n",
    "        arg = 'Not Weird'\n",
    "    elif n >=6 and n <= 20:\n",
    "        arg = 'Weird'\n",
    "    else :\n",
    "        arg = 'Not Weird'\n",
    "print(arg)"
   ]
  },
  {
   "cell_type": "markdown",
   "id": "856d6ebb",
   "metadata": {},
   "source": [
    "https://www.hackerrank.com/challenges/python-arithmetic-operators/problem\n",
    "<br>\n",
    "The provided code stub reads two integers from STDIN, a and b. Add code to print three lines where:\n",
    "<br>\n",
    "The first line contains the sum of the two numbers.\n",
    "<br>\n",
    "The second line contains the difference of the two numbers (first - second).\n",
    "<br>\n",
    "The third line contains the product of the two numbers."
   ]
  },
  {
   "cell_type": "code",
   "execution_count": 5,
   "id": "fb1161a9",
   "metadata": {},
   "outputs": [
    {
     "name": "stdout",
     "output_type": "stream",
     "text": [
      "3 9\n",
      "12\n",
      "-6\n",
      "27\n"
     ]
    }
   ],
   "source": [
    "a, b = map(int, input().split())\n",
    "print(a+b)\n",
    "print(a-b)\n",
    "print(a*b)"
   ]
  },
  {
   "cell_type": "markdown",
   "id": "2443a8e4",
   "metadata": {},
   "source": [
    "https://www.hackerrank.com/challenges/python-division/problem\n",
    "<br>\n",
    "The provided code stub reads two integers, a and b, from STDIN.\n",
    "<br>\n",
    "Add logic to print two lines. The first line should contain the result of integer division, a  // b. The second line should contain the result of float division, a / b.\n",
    "<br>\n",
    "No rounding or formatting is necessary."
   ]
  },
  {
   "cell_type": "code",
   "execution_count": 6,
   "id": "54512474",
   "metadata": {},
   "outputs": [
    {
     "name": "stdout",
     "output_type": "stream",
     "text": [
      "13 2\n",
      "6\n",
      "6.5\n"
     ]
    }
   ],
   "source": [
    "a, b = map(int, input().split())\n",
    "print(a//b)   \n",
    "print(a/b)"
   ]
  },
  {
   "cell_type": "markdown",
   "id": "f6f89975",
   "metadata": {},
   "source": [
    "https://www.hackerrank.com/challenges/python-loops/problem\n",
    "<br>\n",
    "The provided code stub reads and integer, n , from STDIN. For all non-negative integers i<n , print i^2 ."
   ]
  },
  {
   "cell_type": "code",
   "execution_count": 7,
   "id": "79ea6bea",
   "metadata": {},
   "outputs": [
    {
     "name": "stdout",
     "output_type": "stream",
     "text": [
      "4\n",
      "0\n",
      "1\n",
      "4\n",
      "9\n"
     ]
    }
   ],
   "source": [
    "n = int(input())\n",
    "for i in range(n):\n",
    "    print(i*i)"
   ]
  },
  {
   "cell_type": "markdown",
   "id": "69afa79a",
   "metadata": {},
   "source": [
    "https://www.hackerrank.com/challenges/write-a-function/problem\n",
    "<br>\n",
    "An extra day is added to the calendar almost every four years as February 29, and the day is called a leap day. It corrects the calendar for the fact that our planet takes approximately 365.25 days to orbit the sun. A leap year contains a leap day.\n",
    "<br>\n",
    "In the Gregorian calendar, three conditions are used to identify leap years:\n",
    "<br>\n",
    "The year can be evenly divided by 4, is a leap year, unless:\n",
    "<br>\n",
    "The year can be evenly divided by 100, it is NOT a leap year, unless:\n",
    "<br>\n",
    "The year is also evenly divisible by 400. Then it is a leap year."
   ]
  },
  {
   "cell_type": "code",
   "execution_count": 8,
   "id": "c7e7efb9",
   "metadata": {},
   "outputs": [
    {
     "name": "stdout",
     "output_type": "stream",
     "text": [
      "2021\n",
      "False\n"
     ]
    }
   ],
   "source": [
    "def is_leap(year):\n",
    "    leap = False\n",
    "    if (year % 4 == 0) and (year % 100 != 0) or (year % 400 == 0):\n",
    "        leap = True\n",
    "    else:\n",
    "        Leap = False\n",
    "    return leap\n",
    "\n",
    "year = int(input())\n",
    "print(is_leap(year))"
   ]
  },
  {
   "cell_type": "markdown",
   "id": "f19e74b9",
   "metadata": {},
   "source": [
    "https://www.hackerrank.com/challenges/python-print/problem\n",
    "<br>\n",
    "The included code stub will read an integer, , from STDIN.\n",
    "<br>\n",
    "Without using any string methods, try to print the following: 123...n\n",
    "<br>\n",
    "Note that \"\" represents the consecutive values in between."
   ]
  },
  {
   "cell_type": "code",
   "execution_count": 9,
   "id": "59e6d01c",
   "metadata": {},
   "outputs": [
    {
     "name": "stdout",
     "output_type": "stream",
     "text": [
      "11\n",
      "1234567891011"
     ]
    }
   ],
   "source": [
    "n = int(input())\n",
    "for i in range(n):\n",
    "     print(str(i+1), end = '')"
   ]
  }
 ],
 "metadata": {
  "kernelspec": {
   "display_name": "Python 3",
   "language": "python",
   "name": "python3"
  },
  "language_info": {
   "codemirror_mode": {
    "name": "ipython",
    "version": 3
   },
   "file_extension": ".py",
   "mimetype": "text/x-python",
   "name": "python",
   "nbconvert_exporter": "python",
   "pygments_lexer": "ipython3",
   "version": "3.8.8"
  }
 },
 "nbformat": 4,
 "nbformat_minor": 5
}
